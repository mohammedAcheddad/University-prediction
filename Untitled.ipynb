{
 "cells": [
  {
   "cell_type": "code",
   "execution_count": 12,
   "id": "56571391",
   "metadata": {},
   "outputs": [
    {
     "data": {
      "text/html": [
       "<div>\n",
       "<style scoped>\n",
       "    .dataframe tbody tr th:only-of-type {\n",
       "        vertical-align: middle;\n",
       "    }\n",
       "\n",
       "    .dataframe tbody tr th {\n",
       "        vertical-align: top;\n",
       "    }\n",
       "\n",
       "    .dataframe thead th {\n",
       "        text-align: right;\n",
       "    }\n",
       "</style>\n",
       "<table border=\"1\" class=\"dataframe\">\n",
       "  <thead>\n",
       "    <tr style=\"text-align: right;\">\n",
       "      <th></th>\n",
       "      <th>city</th>\n",
       "      <th>major</th>\n",
       "      <th>Price</th>\n",
       "      <th>target</th>\n",
       "    </tr>\n",
       "  </thead>\n",
       "  <tbody>\n",
       "    <tr>\n",
       "      <th>0</th>\n",
       "      <td>Casa</td>\n",
       "      <td>Robotics</td>\n",
       "      <td>21830</td>\n",
       "      <td>Abdelmalek EssaÃ¢di University</td>\n",
       "    </tr>\n",
       "    <tr>\n",
       "      <th>1</th>\n",
       "      <td>Casa</td>\n",
       "      <td>Medicine</td>\n",
       "      <td>76776</td>\n",
       "      <td>University of Hassan II Casablanca Ain Chok</td>\n",
       "    </tr>\n",
       "    <tr>\n",
       "      <th>2</th>\n",
       "      <td>Rabat</td>\n",
       "      <td>Robotics</td>\n",
       "      <td>31535</td>\n",
       "      <td>Ibn Tofail University</td>\n",
       "    </tr>\n",
       "    <tr>\n",
       "      <th>3</th>\n",
       "      <td>Fes</td>\n",
       "      <td>Robotics</td>\n",
       "      <td>82084</td>\n",
       "      <td>Mohammed V University of Rabat</td>\n",
       "    </tr>\n",
       "    <tr>\n",
       "      <th>4</th>\n",
       "      <td>Rabat</td>\n",
       "      <td>Cs</td>\n",
       "      <td>21413</td>\n",
       "      <td>Al Akhawayn University</td>\n",
       "    </tr>\n",
       "  </tbody>\n",
       "</table>\n",
       "</div>"
      ],
      "text/plain": [
       "    city     major  Price                                           target\n",
       "0   Casa  Robotics  21830                   Abdelmalek EssaÃ¢di University\n",
       "1   Casa  Medicine  76776      University of Hassan II Casablanca Ain Chok\n",
       "2  Rabat  Robotics  31535                           Ibn Tofail University \n",
       "3    Fes  Robotics  82084                   Mohammed V University of Rabat\n",
       "4  Rabat        Cs  21413                           Al Akhawayn University"
      ]
     },
     "execution_count": 12,
     "metadata": {},
     "output_type": "execute_result"
    }
   ],
   "source": [
    "import pandas as pd\n",
    "import numpy as np\n",
    "from sklearn.model_selection import train_test_split\n",
    "from sklearn.neighbors import KNeighborsClassifier\n",
    "from sklearn.preprocessing import LabelEncoder\n",
    "import random\n",
    "\n",
    "# Define the lists of values for each feature\n",
    "cities = ['Fes', 'Casa', 'Rabat']\n",
    "majors = ['Cs', 'Robotics', 'Medicine', 'Archi']\n",
    "prices = np.random.randint(100000, size=10000)\n",
    "\n",
    "with open('file.txt', 'r') as f:\n",
    "    names = f.read().splitlines()\n",
    "targets = random.choices(names, k=10000)\n",
    "\n",
    "# Create a dictionary of the data\n",
    "data = {'city': np.random.choice(cities, size=10000),\n",
    "        'major': np.random.choice(majors, size=10000),\n",
    "        'Price': prices,\n",
    "        'target': targets}\n",
    "\n",
    "# Create a dataframe from the dictionary\n",
    "df = pd.DataFrame(data)\n",
    "df.head()\n"
   ]
  },
  {
   "cell_type": "code",
   "execution_count": 9,
   "id": "eae992d8",
   "metadata": {},
   "outputs": [
    {
     "data": {
      "text/html": [
       "<div>\n",
       "<style scoped>\n",
       "    .dataframe tbody tr th:only-of-type {\n",
       "        vertical-align: middle;\n",
       "    }\n",
       "\n",
       "    .dataframe tbody tr th {\n",
       "        vertical-align: top;\n",
       "    }\n",
       "\n",
       "    .dataframe thead th {\n",
       "        text-align: right;\n",
       "    }\n",
       "</style>\n",
       "<table border=\"1\" class=\"dataframe\">\n",
       "  <thead>\n",
       "    <tr style=\"text-align: right;\">\n",
       "      <th></th>\n",
       "      <th>city</th>\n",
       "      <th>major</th>\n",
       "      <th>Price</th>\n",
       "      <th>target</th>\n",
       "    </tr>\n",
       "  </thead>\n",
       "  <tbody>\n",
       "    <tr>\n",
       "      <th>0</th>\n",
       "      <td>1</td>\n",
       "      <td>1</td>\n",
       "      <td>10594</td>\n",
       "      <td>University of Hassan II Casablanca Ain Chok</td>\n",
       "    </tr>\n",
       "    <tr>\n",
       "      <th>1</th>\n",
       "      <td>0</td>\n",
       "      <td>3</td>\n",
       "      <td>8921</td>\n",
       "      <td>Al Akhawayn University</td>\n",
       "    </tr>\n",
       "    <tr>\n",
       "      <th>2</th>\n",
       "      <td>2</td>\n",
       "      <td>2</td>\n",
       "      <td>42713</td>\n",
       "      <td>Chouaib Doukkali University</td>\n",
       "    </tr>\n",
       "    <tr>\n",
       "      <th>3</th>\n",
       "      <td>0</td>\n",
       "      <td>2</td>\n",
       "      <td>20511</td>\n",
       "      <td>Hassan 1er University</td>\n",
       "    </tr>\n",
       "    <tr>\n",
       "      <th>4</th>\n",
       "      <td>1</td>\n",
       "      <td>0</td>\n",
       "      <td>40121</td>\n",
       "      <td>Abdelmalek EssaÃ¢di University</td>\n",
       "    </tr>\n",
       "  </tbody>\n",
       "</table>\n",
       "</div>"
      ],
      "text/plain": [
       "   city  major  Price                                           target\n",
       "0     1      1  10594      University of Hassan II Casablanca Ain Chok\n",
       "1     0      3   8921                           Al Akhawayn University\n",
       "2     2      2  42713                      Chouaib Doukkali University\n",
       "3     0      2  20511                           Hassan 1er University \n",
       "4     1      0  40121                   Abdelmalek EssaÃ¢di University"
      ]
     },
     "execution_count": 9,
     "metadata": {},
     "output_type": "execute_result"
    }
   ],
   "source": [
    "df.head()"
   ]
  },
  {
   "cell_type": "code",
   "execution_count": 2,
   "id": "6ea6e05e",
   "metadata": {},
   "outputs": [],
   "source": [
    "new_data = {'city': 'Casa', 'major': 'Cs', 'Price': 50}\n",
    "\n",
    "# Create a dataframe from the new data point\n",
    "new_df = pd.DataFrame(new_data, index=[0])"
   ]
  },
  {
   "cell_type": "code",
   "execution_count": 3,
   "id": "bbec3cab",
   "metadata": {},
   "outputs": [
    {
     "data": {
      "text/html": [
       "<div>\n",
       "<style scoped>\n",
       "    .dataframe tbody tr th:only-of-type {\n",
       "        vertical-align: middle;\n",
       "    }\n",
       "\n",
       "    .dataframe tbody tr th {\n",
       "        vertical-align: top;\n",
       "    }\n",
       "\n",
       "    .dataframe thead th {\n",
       "        text-align: right;\n",
       "    }\n",
       "</style>\n",
       "<table border=\"1\" class=\"dataframe\">\n",
       "  <thead>\n",
       "    <tr style=\"text-align: right;\">\n",
       "      <th></th>\n",
       "      <th>city</th>\n",
       "      <th>major</th>\n",
       "      <th>Price</th>\n",
       "    </tr>\n",
       "  </thead>\n",
       "  <tbody>\n",
       "    <tr>\n",
       "      <th>0</th>\n",
       "      <td>Casa</td>\n",
       "      <td>Cs</td>\n",
       "      <td>50</td>\n",
       "    </tr>\n",
       "  </tbody>\n",
       "</table>\n",
       "</div>"
      ],
      "text/plain": [
       "   city major  Price\n",
       "0  Casa    Cs     50"
      ]
     },
     "execution_count": 3,
     "metadata": {},
     "output_type": "execute_result"
    }
   ],
   "source": [
    "new_df\n"
   ]
  },
  {
   "cell_type": "code",
   "execution_count": 4,
   "id": "2dac9b9a",
   "metadata": {},
   "outputs": [],
   "source": [
    "new_df['city'] = new_df['city'].replace('Fes', 2)\n",
    "new_df['city'] = new_df['city'].replace('Casa', 1)\n",
    "new_df['city'] = new_df['city'].replace('Rabat', 3)\n",
    "new_df['major'] = new_df['major'].replace('Cs', 1)\n",
    "new_df['major'] = new_df['major'].replace('Robotics', 2)\n",
    "new_df['major'] = new_df['major'].replace('Medicine', 3)\n",
    "new_df['major'] = new_df['major'].replace('Archi', 4)"
   ]
  },
  {
   "cell_type": "code",
   "execution_count": 5,
   "id": "30f457c0",
   "metadata": {},
   "outputs": [
    {
     "data": {
      "text/html": [
       "<div>\n",
       "<style scoped>\n",
       "    .dataframe tbody tr th:only-of-type {\n",
       "        vertical-align: middle;\n",
       "    }\n",
       "\n",
       "    .dataframe tbody tr th {\n",
       "        vertical-align: top;\n",
       "    }\n",
       "\n",
       "    .dataframe thead th {\n",
       "        text-align: right;\n",
       "    }\n",
       "</style>\n",
       "<table border=\"1\" class=\"dataframe\">\n",
       "  <thead>\n",
       "    <tr style=\"text-align: right;\">\n",
       "      <th></th>\n",
       "      <th>city</th>\n",
       "      <th>major</th>\n",
       "      <th>Price</th>\n",
       "    </tr>\n",
       "  </thead>\n",
       "  <tbody>\n",
       "    <tr>\n",
       "      <th>0</th>\n",
       "      <td>1</td>\n",
       "      <td>1</td>\n",
       "      <td>50</td>\n",
       "    </tr>\n",
       "  </tbody>\n",
       "</table>\n",
       "</div>"
      ],
      "text/plain": [
       "   city  major  Price\n",
       "0     1      1     50"
      ]
     },
     "execution_count": 5,
     "metadata": {},
     "output_type": "execute_result"
    }
   ],
   "source": [
    "new_df"
   ]
  },
  {
   "cell_type": "code",
   "execution_count": 6,
   "id": "c37cf8dc",
   "metadata": {},
   "outputs": [
    {
     "name": "stderr",
     "output_type": "stream",
     "text": [
      "C:\\Users\\Cheddad\\anaconda3\\lib\\site-packages\\sklearn\\neighbors\\_classification.py:228: FutureWarning: Unlike other reduction functions (e.g. `skew`, `kurtosis`), the default behavior of `mode` typically preserves the axis it acts along. In SciPy 1.11.0, this behavior will change: the default value of `keepdims` will become False, the `axis` over which the statistic is taken will be eliminated, and the value None will no longer be accepted. Set `keepdims` to True or False to avoid this warning.\n",
      "  mode, _ = stats.mode(_y[neigh_ind, k], axis=1)\n"
     ]
    },
    {
     "data": {
      "text/plain": [
       "array(['    Chouaib Doukkali University'], dtype=object)"
      ]
     },
     "execution_count": 6,
     "metadata": {},
     "output_type": "execute_result"
    }
   ],
   "source": [
    "knn.predict(new_df)"
   ]
  },
  {
   "cell_type": "code",
   "execution_count": 7,
   "id": "2e1ea98a",
   "metadata": {},
   "outputs": [
    {
     "name": "stdout",
     "output_type": "stream",
     "text": [
      "   city  major    Price\n",
      "0     2      1  10000.0\n"
     ]
    },
    {
     "name": "stderr",
     "output_type": "stream",
     "text": [
      "C:\\Users\\Cheddad\\anaconda3\\lib\\site-packages\\sklearn\\neighbors\\_classification.py:228: FutureWarning: Unlike other reduction functions (e.g. `skew`, `kurtosis`), the default behavior of `mode` typically preserves the axis it acts along. In SciPy 1.11.0, this behavior will change: the default value of `keepdims` will become False, the `axis` over which the statistic is taken will be eliminated, and the value None will no longer be accepted. Set `keepdims` to True or False to avoid this warning.\n",
      "  mode, _ = stats.mode(_y[neigh_ind, k], axis=1)\n"
     ]
    }
   ],
   "source": [
    "import tkinter as tk\n",
    "from sklearn.neighbors import KNeighborsClassifier\n",
    "from sklearn.preprocessing import LabelEncoder\n",
    "import pandas as pd\n",
    "\n",
    "# Define the KNN model and LabelEncoder\n",
    "knn = KNeighborsClassifier(n_neighbors=3)\n",
    "le = LabelEncoder()\n",
    "\n",
    "# Load the data\n",
    "\n",
    "# Transform categorical features to numerical values\n",
    "df['city'] = le.fit_transform(df['city'])\n",
    "df['major'] = le.fit_transform(df['major'])\n",
    "\n",
    "# Fit the KNN model\n",
    "knn.fit(df[['city', 'major', 'Price']], df['target'])\n",
    "\n",
    "\n",
    "# Define a function to make a prediction\n",
    "def predict():\n",
    "    # Get the values of the input fields\n",
    "    city = city_input.get()\n",
    "    major = major_input.get()\n",
    "    price = float(price_input.get())\n",
    "\n",
    "    # Create a new data frame with the input values\n",
    "    new_df = pd.DataFrame({'city': [city], 'major': [major], 'Price': [price]})\n",
    "    new_df['city'] = new_df['city'].replace('Fes', 2)\n",
    "    new_df['city'] = new_df['city'].replace('Casa', 1)\n",
    "    new_df['city'] = new_df['city'].replace('Rabat', 3)\n",
    "    new_df['major'] = new_df['major'].replace('Cs', 1)\n",
    "    new_df['major'] = new_df['major'].replace('Robotics', 2)\n",
    "    new_df['major'] = new_df['major'].replace('Medicine', 3)\n",
    "    new_df['major'] = new_df['major'].replace('Archi', 4)\n",
    "    print(new_df)\n",
    "    # Make a prediction with the KNN model\n",
    "    prediction = knn.predict(new_df)\n",
    "\n",
    "    # Update the text box with the prediction\n",
    "    prediction_text.set(f\"Prediction: {prediction}\")\n",
    "\n",
    "\n",
    "# Create the GUI\n",
    "root = tk.Tk()\n",
    "root.title('KNN Model Predictor')\n",
    "\n",
    "# Create the input fields\n",
    "city_label = tk.Label(root, text='City:')\n",
    "city_label.grid(row=0, column=0, padx=5, pady=5)\n",
    "city_input = tk.Entry(root)\n",
    "city_input.grid(row=0, column=1, padx=5, pady=5)\n",
    "\n",
    "major_label = tk.Label(root, text='Major:')\n",
    "major_label.grid(row=1, column=0, padx=5, pady=5)\n",
    "major_input = tk.Entry(root)\n",
    "major_input.grid(row=1, column=1, padx=5, pady=5)\n",
    "\n",
    "price_label = tk.Label(root, text='Price:')\n",
    "price_label.grid(row=2, column=0, padx=5, pady=5)\n",
    "price_input = tk.Entry(root)\n",
    "price_input.grid(row=2, column=1, padx=5, pady=5)\n",
    "\n",
    "# Create the button and text box\n",
    "predict_button = tk.Button(root, text='Predict', command=predict)\n",
    "predict_button.grid(row=3, column=0, columnspan=2, padx=5, pady=5)\n",
    "\n",
    "prediction_text = tk.StringVar()\n",
    "prediction_text.set('Prediction: ')\n",
    "prediction_label = tk.Label(root, textvariable=prediction_text)\n",
    "prediction_label.grid(row=4, column=0, columnspan=2, padx=5, pady=5)\n",
    "\n",
    "# Start the GUI\n",
    "root.mainloop()"
   ]
  },
  {
   "cell_type": "code",
   "execution_count": null,
   "id": "e5082c77",
   "metadata": {},
   "outputs": [],
   "source": []
  }
 ],
 "metadata": {
  "kernelspec": {
   "display_name": "Python 3 (ipykernel)",
   "language": "python",
   "name": "python3"
  },
  "language_info": {
   "codemirror_mode": {
    "name": "ipython",
    "version": 3
   },
   "file_extension": ".py",
   "mimetype": "text/x-python",
   "name": "python",
   "nbconvert_exporter": "python",
   "pygments_lexer": "ipython3",
   "version": "3.9.13"
  }
 },
 "nbformat": 4,
 "nbformat_minor": 5
}
